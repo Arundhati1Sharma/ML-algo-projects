{
 "cells": [
  {
   "cell_type": "code",
   "execution_count": 1,
   "metadata": {},
   "outputs": [
    {
     "name": "stdout",
     "output_type": "stream",
     "text": [
      "25\n"
     ]
    }
   ],
   "source": [
    "##file handling...it is a technique by which we can manage the file and perform many operations\n",
    "#open('file name /path /variable name','mode')  \n",
    "file=open('mytext.text','w')                 ##open fuction creates the new file with the name provided ... if the file name given is not present in memory\n",
    "a=file.write('we are in the mytext file')\n",
    "print(a)                                    ##it gives the length of the text\n",
    "file.close()"
   ]
  },
  {
   "cell_type": "code",
   "execution_count": 3,
   "metadata": {},
   "outputs": [
    {
     "name": "stdout",
     "output_type": "stream",
     "text": [
      "5\n",
      "ne 2019\n"
     ]
    }
   ],
   "source": [
    "#read mode is used to read the content of file\n",
    "path='C:\\\\Users\\\\Vaibhav\\\\Desktop\\\\filehandling_suresh.txt'    ##\\\\ is used so that it do not consider it as \\n or \\t\n",
    "obj=open(path,'r')\n",
    "#print(obj.read())\n",
    "#for content in obj.read():\n",
    "#    print(content)\n",
    "#for content in obj.read(10):\n",
    "#    print(content)\n",
    "#obj.read()\n",
    "#print(obj.tell())\n",
    "obj.read()\n",
    "obj.seek(5)\n",
    "print(obj.tell())\n",
    "print(obj.read())              ##***************"
   ]
  },
  {
   "cell_type": "code",
   "execution_count": 10,
   "metadata": {},
   "outputs": [],
   "source": [
    "##in above program\n",
    "#tell(): tells the position of eof\n",
    "#seek(): puts the cursor at desired position"
   ]
  },
  {
   "cell_type": "code",
   "execution_count": 1,
   "metadata": {},
   "outputs": [
    {
     "ename": "FileExistsError",
     "evalue": "[WinError 183] Cannot create a file when that file already exists: 'C:\\\\Users\\\\Vaibhav\\\\Desktop\\\\filehandling_suresh.txt' -> 'filehand_suresh'",
     "output_type": "error",
     "traceback": [
      "\u001b[1;31m---------------------------------------------------------------------------\u001b[0m",
      "\u001b[1;31mFileExistsError\u001b[0m                           Traceback (most recent call last)",
      "\u001b[1;32m<ipython-input-1-4944f78d4bab>\u001b[0m in \u001b[0;36m<module>\u001b[1;34m\u001b[0m\n\u001b[0;32m      1\u001b[0m \u001b[1;32mimport\u001b[0m \u001b[0mos\u001b[0m\u001b[1;33m\u001b[0m\u001b[1;33m\u001b[0m\u001b[0m\n\u001b[0;32m      2\u001b[0m \u001b[0mpath\u001b[0m\u001b[1;33m=\u001b[0m\u001b[1;34m'C:\\\\Users\\\\Vaibhav\\\\Desktop\\\\filehandling_suresh.txt'\u001b[0m\u001b[1;33m\u001b[0m\u001b[1;33m\u001b[0m\u001b[0m\n\u001b[1;32m----> 3\u001b[1;33m \u001b[0mos\u001b[0m\u001b[1;33m.\u001b[0m\u001b[0mrename\u001b[0m\u001b[1;33m(\u001b[0m\u001b[0mpath\u001b[0m\u001b[1;33m,\u001b[0m\u001b[1;34m'filehand_suresh'\u001b[0m\u001b[1;33m)\u001b[0m\u001b[1;33m\u001b[0m\u001b[1;33m\u001b[0m\u001b[0m\n\u001b[0m",
      "\u001b[1;31mFileExistsError\u001b[0m: [WinError 183] Cannot create a file when that file already exists: 'C:\\\\Users\\\\Vaibhav\\\\Desktop\\\\filehandling_suresh.txt' -> 'filehand_suresh'"
     ]
    }
   ],
   "source": [
    "import os\n",
    "path='C:\\\\Users\\\\Vaibhav\\\\Desktop\\\\filehandling_suresh.txt' \n",
    "os.rename(path,'filehand_suresh')"
   ]
  },
  {
   "cell_type": "code",
   "execution_count": 3,
   "metadata": {},
   "outputs": [
    {
     "name": "stdout",
     "output_type": "stream",
     "text": [
      "successfully deleted\n"
     ]
    }
   ],
   "source": [
    "#directory\n",
    "#mkdir\n",
    "#rmdir\n",
    "import os\n",
    "#os.mkdir(\"c://z\")\n",
    "#print('successfully folder created')\n",
    "os.rmdir(\"c://z\")\n",
    "print('successfully deleted')\n"
   ]
  },
  {
   "cell_type": "code",
   "execution_count": 4,
   "metadata": {},
   "outputs": [
    {
     "name": "stdout",
     "output_type": "stream",
     "text": [
      "C:\\Users\\Vaibhav\n"
     ]
    }
   ],
   "source": [
    "import os\n",
    "#cwd-current working directory\n",
    "print(os.getcwd())\n"
   ]
  },
  {
   "cell_type": "code",
   "execution_count": 5,
   "metadata": {},
   "outputs": [
    {
     "data": {
      "text/plain": [
       "'d:\\\\'"
      ]
     },
     "execution_count": 5,
     "metadata": {},
     "output_type": "execute_result"
    }
   ],
   "source": [
    "#chdir-change the directory\n",
    "import os\n",
    "os.chdir(\"d://\")\n",
    "os.getcwd()"
   ]
  },
  {
   "cell_type": "code",
   "execution_count": 8,
   "metadata": {},
   "outputs": [
    {
     "name": "stdout",
     "output_type": "stream",
     "text": [
      "a.txt not found [Errno 2] No such file or directory: 'a.txt'\n"
     ]
    }
   ],
   "source": [
    "##**exception handling is used to minimize the execution time of any program**\n",
    "#try-except-finally-raise\n",
    "try:\n",
    "    file=open('a.txt','r')\n",
    "    print(file.read())\n",
    "    file.close()\n",
    "except FileNotFoundError as e:\n",
    "    print('a.txt not found',e)"
   ]
  },
  {
   "cell_type": "code",
   "execution_count": 9,
   "metadata": {},
   "outputs": [
    {
     "name": "stdout",
     "output_type": "stream",
     "text": [
      "enter a no.0\n",
      "entered no. :  0\n",
      "cannot divide\n"
     ]
    }
   ],
   "source": [
    "try:\n",
    "    a=int(input('enter a no.'))\n",
    "    print('entered no. : ',a)\n",
    "    result=100/a\n",
    "    print('result is : ',result)\n",
    "except ZeroDivisionError:\n",
    "    print('cannot divide')"
   ]
  },
  {
   "cell_type": "code",
   "execution_count": 15,
   "metadata": {},
   "outputs": [
    {
     "name": "stdout",
     "output_type": "stream",
     "text": [
      "enter index no.:45\n",
      "index error\n"
     ]
    }
   ],
   "source": [
    "a=[1,2,3,4,5,6,7,8,9]\n",
    "try:\n",
    "    d=int(input('enter index no.:'))\n",
    "    print(a[d])\n",
    "except IndexError:\n",
    "    print('index error')"
   ]
  },
  {
   "cell_type": "code",
   "execution_count": 16,
   "metadata": {},
   "outputs": [
    {
     "name": "stdout",
     "output_type": "stream",
     "text": [
      "enter index no.:12\n",
      "index error list index out of range\n"
     ]
    }
   ],
   "source": [
    "#super exception class\n",
    "a=[1,2,3,4,5,6,7,8,9]\n",
    "try:\n",
    "    d=int(input('enter index no.:'))\n",
    "    print(a[d])\n",
    "except Exception as e:\n",
    "    print('index error',e)"
   ]
  },
  {
   "cell_type": "code",
   "execution_count": 1,
   "metadata": {},
   "outputs": [],
   "source": [
    "##"
   ]
  },
  {
   "cell_type": "code",
   "execution_count": 13,
   "metadata": {},
   "outputs": [
    {
     "name": "stdout",
     "output_type": "stream",
     "text": [
      "[1, 2, 6, 8, 10, 12, 99, 100, 500, 900]\n",
      "10\n",
      "900\n",
      "1\n",
      "[0, 1, 2, 3, 4, 5, 6, 7, 8, 9]\n",
      "['z', 'e', 'e', 't', 'r', 'o', 'n']\n",
      "['.', '0', '2', '2.5', 'zeetron']\n"
     ]
    }
   ],
   "source": [
    "#sorting\n",
    "l=[99,2,6,8,10,12,1,900,100,500]\n",
    "l.sort()\n",
    "print(l)\n",
    "print(len(l))\n",
    "print(max(l))\n",
    "print(min(l))\n",
    "print(list(range(10)))\n",
    "print(list('zeetron'))\n",
    "l1=['zeetron','2','2.5','0','.']\n",
    "#print(l1.sort())                    ...... prints *none* as output\n",
    "l1.sort()\n",
    "print(l1)"
   ]
  },
  {
   "cell_type": "code",
   "execution_count": 9,
   "metadata": {},
   "outputs": [
    {
     "name": "stdout",
     "output_type": "stream",
     "text": [
      "enter the no.:2\n",
      "exception :  wrong input 2 entry\n"
     ]
    }
   ],
   "source": [
    "a=int(input(\"enter the no.:\"))\n",
    "if a==2:\n",
    "    try:\n",
    "        raise Exception(\"wrong input 2 entry\")\n",
    "    except Exception as e:\n",
    "        print(\"exception : \",e)\n",
    "else:\n",
    "    result=100/(a-2)\n",
    "    print(\"result : \",result)\n",
    "    "
   ]
  },
  {
   "cell_type": "code",
   "execution_count": null,
   "metadata": {},
   "outputs": [],
   "source": []
  },
  {
   "cell_type": "code",
   "execution_count": null,
   "metadata": {},
   "outputs": [],
   "source": []
  }
 ],
 "metadata": {
  "kernelspec": {
   "display_name": "Python 3",
   "language": "python",
   "name": "python3"
  },
  "language_info": {
   "codemirror_mode": {
    "name": "ipython",
    "version": 3
   },
   "file_extension": ".py",
   "mimetype": "text/x-python",
   "name": "python",
   "nbconvert_exporter": "python",
   "pygments_lexer": "ipython3",
   "version": "3.7.3"
  }
 },
 "nbformat": 4,
 "nbformat_minor": 2
}
