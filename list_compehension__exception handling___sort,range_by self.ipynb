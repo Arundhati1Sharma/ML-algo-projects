{
 "cells": [
  {
   "cell_type": "code",
   "execution_count": 2,
   "metadata": {},
   "outputs": [
    {
     "name": "stdout",
     "output_type": "stream",
     "text": [
      "[32, 57, 62, 81, 4, 61, 54, 56, 32, 19, 73, 37, 57, 42, 55, 83, 92, 72, 14, 10, 41, 37, 45, 14, 46, 35, 87, 19, 16, 91, 34, 2, 36, 33, 99, 26, 50, 90, 31, 28, 60, 84, 25, 24, 71, 80, 49, 23, 39, 52, 30, 26, 88, 91, 73, 52, 14, 69, 51, 0, 13, 87, 26, 78, 62, 31, 76, 38, 64, 87, 30, 17, 63, 75, 93, 24, 56, 78, 12, 45, 53, 17, 25, 80, 57, 31, 12, 28, 24, 16, 81, 100, 33, 30, 74, 18, 3, 9, 46, 49, 43, 46, 66, 58, 10, 45, 34, 37, 76, 72, 91, 51, 24, 57, 24, 81, 44, 68, 93, 80, 33, 19, 89, 39, 85, 53, 30, 70, 17, 10, 33, 54, 41, 100, 59, 96, 74, 21, 80, 61, 11, 97, 10, 54, 25, 46, 8, 32, 11, 57, 63, 18, 62, 3, 18, 51, 37, 30, 93, 65, 53, 1, 32, 39, 32, 87, 12, 54, 35, 90, 23, 59, 33, 93, 51, 37, 35, 90, 61, 79, 71, 78, 68, 20, 5, 78, 26, 82, 51, 25, 52, 28, 56, 44, 12, 84, 67, 24, 41, 100, 49, 50, 66, 57, 94, 39, 56, 23, 51, 83, 76, 14, 10, 95, 93, 84, 28, 100, 68, 9, 82, 15, 72, 30, 99, 43, 3, 48, 94, 4, 32, 11, 87, 41, 18, 67, 9, 40, 10, 90, 26, 86, 2, 18, 76, 23, 0, 17, 79, 19, 45, 7, 55, 58, 30, 65, 44, 96, 79, 100, 28, 48, 52, 34, 28, 95, 57, 12, 41, 55, 22, 77, 5, 50, 53, 54, 5, 57, 64, 77, 8, 5, 56, 60, 88, 70, 43, 7, 85, 35, 13, 2, 36, 52, 84, 39, 38, 100, 90, 43, 90, 90, 90, 39, 65, 30, 39, 61, 77, 75, 59, 45, 5, 58, 67, 7, 73, 88, 9, 74, 37, 49, 56, 57, 88, 63, 26, 34, 83, 29, 41, 15, 83, 32, 70, 88, 44, 100, 4, 89, 70, 87, 96, 78, 24, 83, 57, 38, 45, 93, 99, 70, 85, 15, 92, 80, 34, 51, 25, 88, 8, 28, 30, 25, 60, 97, 34, 2, 19, 27, 67, 59, 54, 7, 7, 57, 12, 26, 80, 41, 100, 71, 31, 65, 27, 63, 1, 55, 1, 52, 77, 76, 90, 48, 15, 92, 10, 91, 15, 71, 30, 54, 16, 31, 42, 36, 59, 71, 93, 38, 45, 0, 83, 47, 74, 47, 67, 84, 97, 5, 88, 49, 28, 75, 74, 40, 60, 60, 37, 48, 51, 27, 89, 78, 7, 53, 16, 23, 43, 66, 32, 49, 0, 56, 66, 65, 18, 88, 52, 51, 30, 21, 36, 88, 45, 39, 0, 34, 2, 62, 75, 97, 71, 74, 100, 69, 50, 59, 89, 80, 22, 50, 4, 81, 61, 45, 78, 6, 71, 73, 85, 0, 63, 52, 42, 100, 13, 95, 50, 95, 48, 57, 25, 51, 60, 47, 7, 33, 25, 22]\n"
     ]
    }
   ],
   "source": [
    "##ist comprehension\n",
    "import random\n",
    "l=[]\n",
    "for var in range(500):\n",
    "    l.append(random.randint(0,100))\n",
    "print(l)    \n",
    "    \n"
   ]
  },
  {
   "cell_type": "code",
   "execution_count": 4,
   "metadata": {},
   "outputs": [
    {
     "name": "stdout",
     "output_type": "stream",
     "text": [
      "[53, 39, 83, 59, 29, 93, 27, 94, 92, 72, 80, 76, 94, 39, 16, 45, 94, 6, 69, 90, 46, 93, 83, 27, 14, 43, 31, 30, 73, 42, 87, 87, 23, 76, 11, 69, 35, 42, 84, 81, 21, 64, 9, 95, 49, 76, 42, 75, 96, 2, 32, 94, 57, 67, 81, 23, 31, 9, 35, 34, 81, 37, 66, 8, 55, 45, 87, 30, 18, 1, 27, 39, 71, 83, 43, 48, 35, 69, 19, 33, 77, 77, 19, 84, 57, 75, 30, 7, 69, 54, 61, 71, 30, 73, 56, 100, 86, 43, 24, 83, 94, 4, 80, 63, 34, 29, 73, 37, 5, 1, 28, 71, 51, 15, 34, 67, 77, 84, 39, 76, 83, 43, 16, 50, 73, 58, 71, 12, 77, 1, 90, 67, 97, 43, 24, 9, 83, 57, 15, 31, 87, 96, 29, 96, 9, 66, 93, 37, 63, 64, 88, 93, 92, 53, 86, 12, 53, 83, 64, 90, 13, 28, 36, 69, 57, 31, 36, 98, 15, 30, 72, 98, 16, 55, 67, 61, 57, 23, 58, 29, 46, 39, 95, 53, 27, 56, 25, 63, 79, 47, 58, 24, 2, 69, 91, 51, 9, 90, 68, 34, 76, 94, 59, 24, 58, 25, 11, 85, 16, 31, 59, 89, 57, 95, 40, 96, 18, 64, 85, 45, 23, 96, 64, 30, 11, 26, 55, 77, 1, 47, 50, 15, 74, 44, 96, 19, 23, 85, 52, 40, 85, 53, 58, 50, 51, 35, 46, 9, 78, 8, 73, 49, 72, 31, 57, 99, 58, 32, 71, 32, 89, 43, 46, 65, 92, 91, 77, 63, 77, 92, 11, 51, 67, 12, 4, 60, 15, 62, 57, 60, 79, 46, 99, 4, 79, 15, 31, 77, 48, 46, 5, 63, 69, 12, 3, 44, 33, 9, 41, 70, 39, 65, 28, 72, 95, 5, 39, 51, 97, 29, 97, 89, 54, 22, 91, 55, 65, 97, 50, 86, 28, 36, 33, 27, 25, 68, 20, 80, 16, 92, 62, 90, 78, 44, 37, 29, 6, 43, 31, 81, 31, 6, 15, 23, 20, 38, 91, 29, 34, 17, 87, 97, 65, 20, 38, 73, 69, 51, 72, 46, 99, 65, 35, 59, 76, 38, 98, 16, 96, 75, 10, 78, 47, 26, 67, 17, 97, 91, 13, 21, 19, 73, 90, 48, 64, 67, 84, 45, 16, 17, 32, 37, 68, 31, 94, 91, 31, 78, 50, 27, 62, 28, 45, 82, 20, 43, 26, 58, 99, 54, 58, 29, 59, 35, 90, 10, 57, 97, 30, 3, 33, 33, 100, 29, 71, 57, 47, 33, 18, 95, 13, 12, 1, 4, 5, 63, 34, 83, 22, 3, 1, 96, 64, 97, 83, 45, 78, 12, 87, 29, 79, 69, 85, 48, 52, 57, 17, 4, 95, 28, 80, 37, 7, 13, 92, 45, 1, 48, 55, 56, 52, 7, 33, 23, 94, 10, 24, 50, 58, 27, 10, 30, 10, 27, 89, 61, 6, 21, 9, 17, 82, 57, 62, 16, 30, 4, 15, 75, 11, 71]\n"
     ]
    }
   ],
   "source": [
    "l=[random.randint(0,100) for var in range(500)]\n",
    "print(l)"
   ]
  },
  {
   "cell_type": "code",
   "execution_count": 5,
   "metadata": {},
   "outputs": [
    {
     "name": "stdout",
     "output_type": "stream",
     "text": [
      "[0, 1, 4, 27, 16, 125, 36, 343, 64, 729, 100, 1331, 144, 2197, 196, 3375, 256, 4913, 324, 6859, 400, 9261, 484, 12167, 576, 15625, 676, 19683, 784, 24389, 900, 29791, 1024, 35937, 1156, 42875, 1296, 50653, 1444, 59319, 1600, 68921, 1764, 79507, 1936, 91125, 2116, 103823, 2304, 117649, 2500, 132651, 2704, 148877, 2916, 166375, 3136, 185193, 3364, 205379, 3600, 226981, 3844, 250047, 4096, 274625, 4356, 300763, 4624, 328509, 4900, 357911, 5184, 389017, 5476, 421875, 5776, 456533, 6084, 493039, 6400, 531441, 6724, 571787, 7056, 614125, 7396, 658503, 7744, 704969, 8100, 753571, 8464, 804357, 8836, 857375, 9216, 912673, 9604, 970299]\n"
     ]
    }
   ],
   "source": [
    "##even square 0-100\n",
    "##odd cube 0-100\n",
    "l=[var**2 if var%2==0 else var**3 for var in range(100)]\n",
    "print(l)"
   ]
  },
  {
   "cell_type": "code",
   "execution_count": 7,
   "metadata": {},
   "outputs": [
    {
     "name": "stdout",
     "output_type": "stream",
     "text": [
      "[0, 5, 10, 15, 20, 25, 30, 35, 40, 45, 50, 55, 60, 65, 70, 75, 80, 85, 90, 95]\n"
     ]
    }
   ],
   "source": [
    "l=[i for i in range(100) if i%5==0]\n",
    "print(l)"
   ]
  },
  {
   "cell_type": "code",
   "execution_count": 13,
   "metadata": {},
   "outputs": [
    {
     "ename": "ValueError",
     "evalue": "list.remove(x): x not in list",
     "output_type": "error",
     "traceback": [
      "\u001b[1;31m---------------------------------------------------------------------------\u001b[0m",
      "\u001b[1;31mValueError\u001b[0m                                Traceback (most recent call last)",
      "\u001b[1;32m<ipython-input-13-87af7edc8edf>\u001b[0m in \u001b[0;36m<module>\u001b[1;34m\u001b[0m\n\u001b[0;32m     23\u001b[0m             \u001b[0ml1\u001b[0m\u001b[1;33m.\u001b[0m\u001b[0mremove\u001b[0m\u001b[1;33m(\u001b[0m\u001b[0mmini\u001b[0m\u001b[1;33m)\u001b[0m\u001b[1;33m\u001b[0m\u001b[1;33m\u001b[0m\u001b[0m\n\u001b[0;32m     24\u001b[0m     \u001b[0mprint\u001b[0m\u001b[1;33m(\u001b[0m\u001b[0ml2\u001b[0m\u001b[1;33m)\u001b[0m\u001b[1;33m\u001b[0m\u001b[1;33m\u001b[0m\u001b[0m\n\u001b[1;32m---> 25\u001b[1;33m \u001b[0mmy_sort\u001b[0m\u001b[1;33m(\u001b[0m\u001b[1;33m[\u001b[0m\u001b[1;36m1\u001b[0m\u001b[1;33m,\u001b[0m\u001b[1;36m4\u001b[0m\u001b[1;33m,\u001b[0m\u001b[1;36m3\u001b[0m\u001b[1;33m,\u001b[0m\u001b[1;36m5\u001b[0m\u001b[1;33m,\u001b[0m\u001b[1;36m63\u001b[0m\u001b[1;33m,\u001b[0m\u001b[1;36m52\u001b[0m\u001b[1;33m]\u001b[0m\u001b[1;33m)\u001b[0m\u001b[1;33m\u001b[0m\u001b[1;33m\u001b[0m\u001b[0m\n\u001b[0m\u001b[0;32m     26\u001b[0m \u001b[1;33m\u001b[0m\u001b[0m\n\u001b[0;32m     27\u001b[0m \u001b[1;33m\u001b[0m\u001b[0m\n",
      "\u001b[1;32m<ipython-input-13-87af7edc8edf>\u001b[0m in \u001b[0;36mmy_sort\u001b[1;34m(l)\u001b[0m\n\u001b[0;32m     21\u001b[0m                  \u001b[0mmini\u001b[0m\u001b[1;33m=\u001b[0m\u001b[0mvar\u001b[0m\u001b[1;33m\u001b[0m\u001b[1;33m\u001b[0m\u001b[0m\n\u001b[0;32m     22\u001b[0m             \u001b[0ml2\u001b[0m\u001b[1;33m.\u001b[0m\u001b[0mappend\u001b[0m\u001b[1;33m(\u001b[0m\u001b[0mmini\u001b[0m\u001b[1;33m)\u001b[0m\u001b[1;33m\u001b[0m\u001b[1;33m\u001b[0m\u001b[0m\n\u001b[1;32m---> 23\u001b[1;33m             \u001b[0ml1\u001b[0m\u001b[1;33m.\u001b[0m\u001b[0mremove\u001b[0m\u001b[1;33m(\u001b[0m\u001b[0mmini\u001b[0m\u001b[1;33m)\u001b[0m\u001b[1;33m\u001b[0m\u001b[1;33m\u001b[0m\u001b[0m\n\u001b[0m\u001b[0;32m     24\u001b[0m     \u001b[0mprint\u001b[0m\u001b[1;33m(\u001b[0m\u001b[0ml2\u001b[0m\u001b[1;33m)\u001b[0m\u001b[1;33m\u001b[0m\u001b[1;33m\u001b[0m\u001b[0m\n\u001b[0;32m     25\u001b[0m \u001b[0mmy_sort\u001b[0m\u001b[1;33m(\u001b[0m\u001b[1;33m[\u001b[0m\u001b[1;36m1\u001b[0m\u001b[1;33m,\u001b[0m\u001b[1;36m4\u001b[0m\u001b[1;33m,\u001b[0m\u001b[1;36m3\u001b[0m\u001b[1;33m,\u001b[0m\u001b[1;36m5\u001b[0m\u001b[1;33m,\u001b[0m\u001b[1;36m63\u001b[0m\u001b[1;33m,\u001b[0m\u001b[1;36m52\u001b[0m\u001b[1;33m]\u001b[0m\u001b[1;33m)\u001b[0m\u001b[1;33m\u001b[0m\u001b[1;33m\u001b[0m\u001b[0m\n",
      "\u001b[1;31mValueError\u001b[0m: list.remove(x): x not in list"
     ]
    }
   ],
   "source": [
    "#nt(input('enter the no. of elements to be entered:')\n",
    "#=[]\n",
    "#=input('enter the elements:')\n",
    "#or i in range(n):\n",
    "#   if l[i]>l[i+1]:\n",
    "#       max=l[i]\n",
    "#      c=l[n]\n",
    "#       l[n]=max\n",
    "#       l[i]=c\n",
    "#   elif l[i]<l[i+1]:\n",
    "#       min=l[i]\n",
    "# \n",
    "\n",
    "def my_sort(l,reverse=None):\n",
    "    l1=l\n",
    "    l2=[]\n",
    "    while l1:\n",
    "        mini=l1[0]\n",
    "        for var in l1:\n",
    "            if l1[var]<mini:\n",
    "                 mini=var\n",
    "            l2.append(mini)\n",
    "            l1.remove(mini)\n",
    "    if reverse==True:\n",
    "        print(l2[::-1]\n",
    "    else:\n",
    "        print(l2)\n",
    "my_sort([1,4,3,5,63,52])\n",
    "    \n",
    "    "
   ]
  },
  {
   "cell_type": "code",
   "execution_count": 19,
   "metadata": {},
   "outputs": [
    {
     "name": "stdout",
     "output_type": "stream",
     "text": [
      "a is not defined\n"
     ]
    }
   ],
   "source": [
    "##base error\n",
    "#keyboard interrupt\n",
    "#generator......................\n",
    "try:\n",
    "    print(a)\n",
    "except NameError:\n",
    "    print('a is not defined')"
   ]
  },
  {
   "cell_type": "code",
   "execution_count": 28,
   "metadata": {},
   "outputs": [
    {
     "name": "stdout",
     "output_type": "stream",
     "text": [
      "enter x:20\n",
      "enter y:r\n"
     ]
    }
   ],
   "source": [
    "try:\n",
    "    x=int(input('enter x:'))\n",
    "    y=int(input('enter y:'))\n",
    "    print(x/y)\n",
    "#except ZeroDivisionError:\n",
    "    #print(\"can't divide by zero\")\n",
    "#except ValueError:\n",
    "    #print(\"can't divide by string\")\n",
    "except Exception:\n",
    "    pass"
   ]
  },
  {
   "cell_type": "code",
   "execution_count": 3,
   "metadata": {},
   "outputs": [
    {
     "name": "stdout",
     "output_type": "stream",
     "text": [
      "20\n",
      "                    \n",
      "                   x \n",
      "                  x x \n",
      "                 x x x \n",
      "                x x x x \n",
      "               x x x x x \n",
      "              x x x x x x \n",
      "             x x x x x x x \n",
      "            x x x x x x x x \n",
      "           x x x x x x x x x \n",
      "          x x x x x x x x x x \n",
      "         x x x x x x x x x x x \n",
      "        x x x x x x x x x x x x \n",
      "       x x x x x x x x x x x x x \n",
      "      x x x x x x x x x x x x x x \n",
      "     x x x x x x x x x x x x x x x \n",
      "    x x x x x x x x x x x x x x x x \n",
      "   x x x x x x x x x x x x x x x x x \n",
      "  x x x x x x x x x x x x x x x x x x \n",
      " x x x x x x x x x x x x x x x x x x x \n"
     ]
    }
   ],
   "source": [
    "x=int(input())\n",
    "if x<=50:\n",
    "    for i in range(x):\n",
    "        print(' '*(x-i)+'x '*i)\n",
    "else:\n",
    "    raise ValueError('a must take value less than or 50')"
   ]
  },
  {
   "cell_type": "code",
   "execution_count": 4,
   "metadata": {},
   "outputs": [
    {
     "name": "stdout",
     "output_type": "stream",
     "text": [
      "{0, 1, 2, 3, 4, 5, 6, 7, 8, 9, 10}\n"
     ]
    }
   ],
   "source": [
    "import random\n",
    "s={random.randint(0,10) for var in range(100)}\n",
    "print(s)"
   ]
  },
  {
   "cell_type": "code",
   "execution_count": 20,
   "metadata": {},
   "outputs": [
    {
     "data": {
      "text/plain": [
       "[-20, -18, -16, -14, -12, -10]"
      ]
     },
     "execution_count": 20,
     "metadata": {},
     "output_type": "execute_result"
    }
   ],
   "source": [
    "def my_range(*arg):\n",
    "    l=list(arg)\n",
    "    if len(l)==1:\n",
    "        start=1\n",
    "        end=l[0]\n",
    "        while start<=end:\n",
    "            yield start            ##stores the value but does not print\n",
    "            start+=1\n",
    "    elif len(l)==2:\n",
    "        start=l[0]\n",
    "        end=l[1]\n",
    "        while start<=end:\n",
    "            yield start\n",
    "            start+=1\n",
    "    elif len(l)==3:\n",
    "        start=l[0]\n",
    "        end=l[1]\n",
    "        step=l[2]\n",
    "        if step>0:\n",
    "            while start<=end:\n",
    "                yield start\n",
    "                start+=step\n",
    "        else:\n",
    "            while start>=end:\n",
    "                yield start\n",
    "                start+=step\n",
    "    else:\n",
    "        raise ValueError(f\"my_range takes 3 arguments but got {len(l)}\")\n",
    "    \n",
    "list(my_range(-20,-10,2))        \n",
    "            \n",
    "    "
   ]
  },
  {
   "cell_type": "code",
   "execution_count": null,
   "metadata": {},
   "outputs": [],
   "source": []
  }
 ],
 "metadata": {
  "kernelspec": {
   "display_name": "Python 3",
   "language": "python",
   "name": "python3"
  },
  "language_info": {
   "codemirror_mode": {
    "name": "ipython",
    "version": 3
   },
   "file_extension": ".py",
   "mimetype": "text/x-python",
   "name": "python",
   "nbconvert_exporter": "python",
   "pygments_lexer": "ipython3",
   "version": "3.7.1"
  }
 },
 "nbformat": 4,
 "nbformat_minor": 2
}
