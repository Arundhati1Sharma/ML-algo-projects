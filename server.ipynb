{
 "cells": [
  {
   "cell_type": "code",
   "execution_count": null,
   "metadata": {},
   "outputs": [],
   "source": [
    "import socket \n",
    "s=socket.socket()\n",
    "host=socket.gethostname()\n",
    "port=123\n",
    "s.bind((host,port))    ##tuple is used ... since only one argument is entertained\n",
    "s.listen(1)            ##1 means no. of clients\n",
    "con,addr=s.accept()\n",
    "print('connection successfully done:')\n",
    "print(con)\n",
    "print(addr)\n",
    "\n",
    "#it will give the connection successfully msg. with its port no.\n",
    "\n",
    "def server():\n",
    "    msg=input('enter msg:')\n",
    "    con.send(msg.encode())\n",
    "    print('msg sent')\n",
    "    if msg=='bye':\n",
    "        s.close()\n",
    "    else:    \n",
    "        d=con.recv(1024)\n",
    "        d=d.decode()\n",
    "        print(d)\n",
    "        if d=='bye':\n",
    "            s.close()\n",
    "        else:    \n",
    "            server()\n",
    "    \n",
    "server()\n"
   ]
  },
  {
   "cell_type": "code",
   "execution_count": null,
   "metadata": {},
   "outputs": [],
   "source": []
  },
  {
   "cell_type": "code",
   "execution_count": null,
   "metadata": {},
   "outputs": [],
   "source": []
  },
  {
   "cell_type": "code",
   "execution_count": null,
   "metadata": {},
   "outputs": [],
   "source": []
  }
 ],
 "metadata": {
  "kernelspec": {
   "display_name": "Python 3",
   "language": "python",
   "name": "python3"
  },
  "language_info": {
   "codemirror_mode": {
    "name": "ipython",
    "version": 3
   },
   "file_extension": ".py",
   "mimetype": "text/x-python",
   "name": "python",
   "nbconvert_exporter": "python",
   "pygments_lexer": "ipython3",
   "version": "3.7.3"
  }
 },
 "nbformat": 4,
 "nbformat_minor": 2
}
