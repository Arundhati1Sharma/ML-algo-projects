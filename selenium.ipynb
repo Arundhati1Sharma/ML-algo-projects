{
 "cells": [
  {
   "cell_type": "code",
   "execution_count": 4,
   "metadata": {},
   "outputs": [],
   "source": [
    "from selenium import webdriver\n",
    "driver=webdriver.Chrome('C:\\\\Users\\\\Vaibhav\\\\Downloads\\\\chromedriver_win32\\\\chromedriver')"
   ]
  },
  {
   "cell_type": "code",
   "execution_count": 5,
   "metadata": {},
   "outputs": [
    {
     "name": "stdout",
     "output_type": "stream",
     "text": [
      "enter user id:shreyalatala@gmail.com\n",
      "enter pass:monalatala1998\n"
     ]
    }
   ],
   "source": [
    "##selenium is for automation\n",
    "url='https://www.facebook.com/'\n",
    "driver.get(url)\n",
    "usr=input('enter user id:')\n",
    "pas=input('enter pass:')\n",
    "user_box=driver.find_element_by_id(\"email\")\n",
    "user_box.send_keys(usr)\n",
    "pass_box=driver.find_element_by_id(\"pass\")\n",
    "pass_box.send_keys(pas)\n",
    "login_btn=driver.find_element_by_id(\"u_0_3\")\n",
    "login_btn.submit()"
   ]
  },
  {
   "cell_type": "code",
   "execution_count": null,
   "metadata": {},
   "outputs": [],
   "source": []
  }
 ],
 "metadata": {
  "kernelspec": {
   "display_name": "Python 3",
   "language": "python",
   "name": "python3"
  },
  "language_info": {
   "codemirror_mode": {
    "name": "ipython",
    "version": 3
   },
   "file_extension": ".py",
   "mimetype": "text/x-python",
   "name": "python",
   "nbconvert_exporter": "python",
   "pygments_lexer": "ipython3",
   "version": "3.7.3"
  }
 },
 "nbformat": 4,
 "nbformat_minor": 2
}
