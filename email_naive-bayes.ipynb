{
 "cells": [
  {
   "cell_type": "code",
   "execution_count": 12,
   "metadata": {},
   "outputs": [],
   "source": [
    "from pandas import DataFrame\n",
    "import io\n",
    "import os\n",
    "from sklearn.feature_extraction.text import CountVectorizer\n",
    "from sklearn.naive_bayes import MultinomialNB"
   ]
  },
  {
   "cell_type": "code",
   "execution_count": 13,
   "metadata": {},
   "outputs": [
    {
     "data": {
      "text/plain": [
       "'C:\\\\Users\\\\Vaibhav'"
      ]
     },
     "execution_count": 13,
     "metadata": {},
     "output_type": "execute_result"
    }
   ],
   "source": [
    "os.getcwd()"
   ]
  },
  {
   "cell_type": "code",
   "execution_count": 14,
   "metadata": {},
   "outputs": [],
   "source": [
    "#for root,dirname,filename in os.walk(os.getcwd()):\n",
    "#    print(root)"
   ]
  },
  {
   "cell_type": "code",
   "execution_count": 15,
   "metadata": {},
   "outputs": [
    {
     "name": "stderr",
     "output_type": "stream",
     "text": [
      "c:\\users\\vaibhav\\appdata\\local\\programs\\python\\python37-32\\lib\\site-packages\\pandas\\core\\frame.py:6692: FutureWarning: Sorting because non-concatenation axis is not aligned. A future version\n",
      "of pandas will change to not sort by default.\n",
      "\n",
      "To accept the future behavior, pass 'sort=False'.\n",
      "\n",
      "To retain the current behavior and silence the warning, pass 'sort=True'.\n",
      "\n",
      "  sort=sort)\n"
     ]
    },
    {
     "data": {
      "text/html": [
       "<div>\n",
       "<style scoped>\n",
       "    .dataframe tbody tr th:only-of-type {\n",
       "        vertical-align: middle;\n",
       "    }\n",
       "\n",
       "    .dataframe tbody tr th {\n",
       "        vertical-align: top;\n",
       "    }\n",
       "\n",
       "    .dataframe thead th {\n",
       "        text-align: right;\n",
       "    }\n",
       "</style>\n",
       "<table border=\"1\" class=\"dataframe\">\n",
       "  <thead>\n",
       "    <tr style=\"text-align: right;\">\n",
       "      <th></th>\n",
       "      <th>class</th>\n",
       "      <th>message</th>\n",
       "    </tr>\n",
       "  </thead>\n",
       "  <tbody>\n",
       "    <tr>\n",
       "      <th>emails/spam\\00001.7848dde101aa985090474a91ec93fcf0</th>\n",
       "      <td>spam</td>\n",
       "      <td>&lt;!DOCTYPE HTML PUBLIC \"-//W3C//DTD HTML 4.0 Tr...</td>\n",
       "    </tr>\n",
       "    <tr>\n",
       "      <th>emails/spam\\00002.d94f1b97e48ed3b553b3508d116e6a09</th>\n",
       "      <td>spam</td>\n",
       "      <td>1) Fight The Risk of Cancer!\\n\\nhttp://www.adc...</td>\n",
       "    </tr>\n",
       "    <tr>\n",
       "      <th>emails/spam\\00003.2ee33bc6eacdb11f38d052c44819ba6c</th>\n",
       "      <td>spam</td>\n",
       "      <td>1) Fight The Risk of Cancer!\\n\\nhttp://www.adc...</td>\n",
       "    </tr>\n",
       "    <tr>\n",
       "      <th>emails/spam\\00004.eac8de8d759b7e74154f142194282724</th>\n",
       "      <td>spam</td>\n",
       "      <td>##############################################...</td>\n",
       "    </tr>\n",
       "    <tr>\n",
       "      <th>emails/spam\\00005.57696a39d7d84318ce497886896bf90d</th>\n",
       "      <td>spam</td>\n",
       "      <td>I thought you might like these:\\n\\n1) Slim Dow...</td>\n",
       "    </tr>\n",
       "  </tbody>\n",
       "</table>\n",
       "</div>"
      ],
      "text/plain": [
       "                                                   class  \\\n",
       "emails/spam\\00001.7848dde101aa985090474a91ec93fcf0  spam   \n",
       "emails/spam\\00002.d94f1b97e48ed3b553b3508d116e6a09  spam   \n",
       "emails/spam\\00003.2ee33bc6eacdb11f38d052c44819ba6c  spam   \n",
       "emails/spam\\00004.eac8de8d759b7e74154f142194282724  spam   \n",
       "emails/spam\\00005.57696a39d7d84318ce497886896bf90d  spam   \n",
       "\n",
       "                                                                                              message  \n",
       "emails/spam\\00001.7848dde101aa985090474a91ec93fcf0  <!DOCTYPE HTML PUBLIC \"-//W3C//DTD HTML 4.0 Tr...  \n",
       "emails/spam\\00002.d94f1b97e48ed3b553b3508d116e6a09  1) Fight The Risk of Cancer!\\n\\nhttp://www.adc...  \n",
       "emails/spam\\00003.2ee33bc6eacdb11f38d052c44819ba6c  1) Fight The Risk of Cancer!\\n\\nhttp://www.adc...  \n",
       "emails/spam\\00004.eac8de8d759b7e74154f142194282724  ##############################################...  \n",
       "emails/spam\\00005.57696a39d7d84318ce497886896bf90d  I thought you might like these:\\n\\n1) Slim Dow...  "
      ]
     },
     "execution_count": 15,
     "metadata": {},
     "output_type": "execute_result"
    }
   ],
   "source": [
    "def readfile(path):\n",
    "    for root,dirnames,filenames in os.walk(path):\n",
    "        for filename in filenames:\n",
    "            path=os.path.join(root,filename)\n",
    "        \n",
    "            inBody=False\n",
    "            lines=[]\n",
    "            f=io.open(path,'r',encoding='latin1')\n",
    "            for line in f:\n",
    "                if inBody:\n",
    "                    lines.append(line)\n",
    "                elif line=='\\n':\n",
    "                    inBody=True\n",
    "                    \n",
    "            f.close()\n",
    "            message='\\n'.join(lines)\n",
    "            yield path,message\n",
    "def dataframefromdirectory(path,cls):\n",
    "    rows=[]\n",
    "    index=[]\n",
    "    for filename,message in readfile(path):\n",
    "        rows.append({'message':message,'class':cls})\n",
    "        index.append(filename)\n",
    "    return DataFrame(rows,index=index)\n",
    "data=DataFrame({'message':[],'class':[]})\n",
    "data=data.append(dataframefromdirectory(os.path.join('emails/spam'),'spam'))\n",
    "data=data.append(dataframefromdirectory(os.path.join('emails/ham'),'ham'))\n",
    "data.head()"
   ]
  },
  {
   "cell_type": "code",
   "execution_count": 16,
   "metadata": {},
   "outputs": [
    {
     "name": "stdout",
     "output_type": "stream",
     "text": [
      "  (0, 20407)\t1\n",
      "  (0, 28844)\t5\n",
      "  (0, 44554)\t1\n",
      "  (0, 57486)\t1\n",
      "  (0, 21111)\t1\n",
      "  (0, 54131)\t1\n",
      "  (0, 22319)\t1\n",
      "  (0, 27856)\t2\n",
      "  (0, 36946)\t2\n",
      "  (0, 17466)\t2\n",
      "  (0, 3669)\t28\n",
      "  (0, 53112)\t1\n",
      "  (0, 15912)\t1\n",
      "  (0, 3865)\t1\n",
      "  (0, 1193)\t1\n",
      "  (0, 28855)\t2\n",
      "  (0, 22714)\t1\n",
      "  (0, 3777)\t1\n",
      "  (0, 60830)\t1\n",
      "  (0, 38010)\t1\n",
      "  (0, 0)\t1\n",
      "  (0, 2507)\t1\n",
      "  (0, 878)\t1\n",
      "  (0, 38606)\t1\n",
      "  (0, 3793)\t1\n",
      "  :\t:\n",
      "  (2999, 46468)\t2\n",
      "  (2999, 59145)\t1\n",
      "  (2999, 13966)\t1\n",
      "  (2999, 43537)\t2\n",
      "  (2999, 51993)\t2\n",
      "  (2999, 51125)\t1\n",
      "  (2999, 52000)\t1\n",
      "  (2999, 19003)\t1\n",
      "  (2999, 19930)\t1\n",
      "  (2999, 25894)\t1\n",
      "  (2999, 44095)\t3\n",
      "  (2999, 44115)\t1\n",
      "  (2999, 19929)\t1\n",
      "  (2999, 27117)\t1\n",
      "  (2999, 19932)\t1\n",
      "  (2999, 20051)\t1\n",
      "  (2999, 13397)\t2\n",
      "  (2999, 19778)\t1\n",
      "  (2999, 25157)\t1\n",
      "  (2999, 46316)\t1\n",
      "  (2999, 30662)\t2\n",
      "  (2999, 3103)\t1\n",
      "  (2999, 26274)\t1\n",
      "  (2999, 43488)\t1\n",
      "  (2999, 8396)\t1\n"
     ]
    }
   ],
   "source": [
    "vectorizer=CountVectorizer()\n",
    "count=vectorizer.fit_transform(data['message'].values)\n",
    "target=data['class'].values\n",
    "model=MultinomialNB()\n",
    "print(count)"
   ]
  },
  {
   "cell_type": "code",
   "execution_count": 17,
   "metadata": {},
   "outputs": [
    {
     "name": "stdout",
     "output_type": "stream",
     "text": [
      "['spam' 'spam' 'spam' ... 'ham' 'ham' 'ham']\n"
     ]
    }
   ],
   "source": [
    "print(target)"
   ]
  },
  {
   "cell_type": "code",
   "execution_count": 36,
   "metadata": {},
   "outputs": [],
   "source": [
    "model.fit(count,target)\n",
    "ex=[\"Free entry in 2 a wkly comp to win FA Cup fina...\"]\n",
    "ex_count=vectorizer.transform(ex)"
   ]
  },
  {
   "cell_type": "code",
   "execution_count": 37,
   "metadata": {},
   "outputs": [
    {
     "data": {
      "text/plain": [
       "array(['ham'], dtype='<U4')"
      ]
     },
     "execution_count": 37,
     "metadata": {},
     "output_type": "execute_result"
    }
   ],
   "source": [
    "m=model.predict(ex_count)\n",
    "m"
   ]
  },
  {
   "cell_type": "code",
   "execution_count": 25,
   "metadata": {},
   "outputs": [
    {
     "data": {
      "text/plain": [
       "class      500\n",
       "message    500\n",
       "dtype: int64"
      ]
     },
     "execution_count": 25,
     "metadata": {},
     "output_type": "execute_result"
    }
   ],
   "source": [
    "data[data['class']=='spam'].count()"
   ]
  },
  {
   "cell_type": "code",
   "execution_count": 21,
   "metadata": {},
   "outputs": [
    {
     "data": {
      "text/plain": [
       "class      2500\n",
       "message    2500\n",
       "dtype: int64"
      ]
     },
     "execution_count": 21,
     "metadata": {},
     "output_type": "execute_result"
    }
   ],
   "source": [
    "data[data['class']=='ham'].count()"
   ]
  },
  {
   "cell_type": "code",
   "execution_count": 22,
   "metadata": {},
   "outputs": [
    {
     "data": {
      "text/plain": [
       "0.9746666666666667"
      ]
     },
     "execution_count": 22,
     "metadata": {},
     "output_type": "execute_result"
    }
   ],
   "source": [
    "model.score(count,target)"
   ]
  }
 ],
 "metadata": {
  "kernelspec": {
   "display_name": "Python 3",
   "language": "python",
   "name": "python3"
  },
  "language_info": {
   "codemirror_mode": {
    "name": "ipython",
    "version": 3
   },
   "file_extension": ".py",
   "mimetype": "text/x-python",
   "name": "python",
   "nbconvert_exporter": "python",
   "pygments_lexer": "ipython3",
   "version": "3.7.3"
  }
 },
 "nbformat": 4,
 "nbformat_minor": 2
}
