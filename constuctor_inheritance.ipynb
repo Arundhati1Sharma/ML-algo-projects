{
 "cells": [
  {
   "cell_type": "code",
   "execution_count": 24,
   "metadata": {},
   "outputs": [
    {
     "name": "stdout",
     "output_type": "stream",
     "text": [
      "constructor is called\n",
      "constructor is called\n",
      "2\n",
      "hi\n",
      "destructor is called\n"
     ]
    }
   ],
   "source": [
    "##in python there is no constructor overrloading but ************************************support overriding\n",
    "##syntax of constructor\n",
    "class demo():\n",
    "    count=0                                  ##class variable    \n",
    "    def __init__(self):\n",
    "        print('constructor is called')\n",
    "        demo.count+=1                        ##destructor ...\n",
    "    def __del__(self):\n",
    "        print('destructor is called')\n",
    "    def show(self):\n",
    "        print('hi')\n",
    "a=demo()\n",
    "a.__init__()\n",
    "print(demo.count)\n",
    "a.show()\n",
    "del a\n"
   ]
  },
  {
   "cell_type": "code",
   "execution_count": 23,
   "metadata": {},
   "outputs": [
    {
     "name": "stdout",
     "output_type": "stream",
     "text": [
      "area : 12\n",
      "volume : 60\n"
     ]
    }
   ],
   "source": [
    "class room():\n",
    "    def __init__(self,length,breadth,height):\n",
    "        self.l=length\n",
    "        self.b=breadth\n",
    "        self.h=height\n",
    "    def area(self):\n",
    "        print('area :',(self.l*self.b))\n",
    "    def volume(self):\n",
    "        print('volume :',(self.l*self.b*self.h))\n",
    "r=room(3,4,5)\n",
    "r.area()\n",
    "r.volume()"
   ]
  },
  {
   "cell_type": "code",
   "execution_count": 3,
   "metadata": {},
   "outputs": [
    {
     "name": "stdout",
     "output_type": "stream",
     "text": [
      "hi\n",
      "bye\n"
     ]
    }
   ],
   "source": [
    "##inheritance\n",
    "\n",
    "class A:\n",
    "    def fun(self):\n",
    "        print('hi')\n",
    "        \n",
    "class B(A):\n",
    "    def fun2(self):\n",
    "        print('bye')\n",
    "b=B()\n",
    "b.fun()\n",
    "b.fun2()"
   ]
  },
  {
   "cell_type": "code",
   "execution_count": 6,
   "metadata": {},
   "outputs": [
    {
     "name": "stdout",
     "output_type": "stream",
     "text": [
      "sum is : 7\n",
      "sum is : 12\n"
     ]
    }
   ],
   "source": [
    "class A:\n",
    "    def get(self,a,b):\n",
    "        self.a=a\n",
    "        self.b=b\n",
    "    def sum(self):\n",
    "        print(\"sum is :\",self.a+self.b)\n",
    "\n",
    "class B(A):\n",
    "    def get2(self,c):\n",
    "        self.c=c\n",
    "    def sum2(self):\n",
    "        print(\"sum is :\",self.a+self.b+self.c)\n",
    "        \n",
    "b=B()\n",
    "b.get(3,4)\n",
    "b.get2(5)\n",
    "b.sum()\n",
    "b.sum2()\n",
    "##sigle level\n",
    "#multiplication,division,factorial(optional)"
   ]
  },
  {
   "cell_type": "code",
   "execution_count": 8,
   "metadata": {},
   "outputs": [
    {
     "name": "stdout",
     "output_type": "stream",
     "text": [
      "hi\n",
      "hello\n",
      "bye\n"
     ]
    }
   ],
   "source": [
    "class A:\n",
    "    def fun(self):\n",
    "        print('hi')\n",
    "class B(A):\n",
    "    def fun2(self):\n",
    "        print('hello')\n",
    "class C(B):\n",
    "    def fun3(self):\n",
    "        print('bye')\n",
    "        \n",
    "b=C()\n",
    "b.fun()\n",
    "b.fun2()\n",
    "b.fun3()\n",
    "##multilevel inheritance"
   ]
  },
  {
   "cell_type": "code",
   "execution_count": 28,
   "metadata": {},
   "outputs": [
    {
     "name": "stdout",
     "output_type": "stream",
     "text": [
      "a\n",
      "e\n",
      "b\n",
      "a\n"
     ]
    }
   ],
   "source": [
    "##multiple inheritance  ... and...\n",
    "#function overriding(example 1) ....................... functions in different classes with same name and arguments\n",
    "class A:\n",
    "    def fun(self):\n",
    "        print('b')\n",
    "class B:\n",
    "    def fun(self):\n",
    "        print('a')\n",
    "class C(B,A):                 ##MRO leftmost would b cosidered as a first parent\n",
    "    def fun2(self):\n",
    "        print('e')\n",
    "    def get(self):\n",
    "        A.fun(self)\n",
    "        B.fun(self)\n",
    "        \n",
    "c=C()\n",
    "c.fun()\n",
    "c.fun2()\n",
    "c.get()"
   ]
  },
  {
   "cell_type": "code",
   "execution_count": 30,
   "metadata": {},
   "outputs": [
    {
     "name": "stdout",
     "output_type": "stream",
     "text": [
      "ee\n"
     ]
    }
   ],
   "source": [
    "##function overloading\n",
    "class A:\n",
    "    def fun(self,a):\n",
    "        print('b')\n",
    "    def fun(self,a,b):\n",
    "        print('ee')\n",
    "\n",
    "a=A()\n",
    "#a.fun(1)                   ##get error when printed ..... python only focuses on max. no. of argument function and ignores the rest functions with same name  ....... thus python **********************do not support fucnction overloading\n",
    "a.fun(2,4)"
   ]
  },
  {
   "cell_type": "code",
   "execution_count": 38,
   "metadata": {},
   "outputs": [
    {
     "name": "stdout",
     "output_type": "stream",
     "text": [
      "e\n",
      "b\n",
      "a\n"
     ]
    }
   ],
   "source": [
    "#function overriding(example 2)\n",
    "class A:\n",
    "    def fun(self):\n",
    "        print('b')\n",
    "class B(A):\n",
    "    def fun(self):\n",
    "        print('a')\n",
    "class C(B):\n",
    "    def fun(self):\n",
    "        print('e')\n",
    "        \n",
    "        \n",
    "a=C()   \n",
    "a.fun()\n",
    "A.fun(c)\n",
    "B.fun(a)"
   ]
  },
  {
   "cell_type": "code",
   "execution_count": 1,
   "metadata": {},
   "outputs": [
    {
     "name": "stdout",
     "output_type": "stream",
     "text": [
      "product: 12\n",
      "product: 60\n"
     ]
    }
   ],
   "source": [
    "#home work 1 multiply ...\n",
    "class A:\n",
    "    def get(self,a,b):\n",
    "        self.a=a\n",
    "        self.b=b\n",
    "    def p(self):\n",
    "        print(\"product:\",self.a*self.b)\n",
    "\n",
    "class B(A):\n",
    "    def get2(self,c):\n",
    "        self.c=c\n",
    "    def p2(self):\n",
    "        print(\"product:\",self.a*self.b*self.c)\n",
    "        \n",
    "b=B()\n",
    "b.get(3,4)\n",
    "b.get2(5)\n",
    "b.p()\n",
    "b.p2()\n",
    "    "
   ]
  },
  {
   "cell_type": "code",
   "execution_count": 2,
   "metadata": {},
   "outputs": [
    {
     "name": "stdout",
     "output_type": "stream",
     "text": [
      "quotient: 0.75\n",
      "quotient: 0.15\n"
     ]
    }
   ],
   "source": [
    "#home work 2 division ...\n",
    "class A:\n",
    "    def get(self,a,b):\n",
    "        self.a=a\n",
    "        self.b=b\n",
    "    def d(self):\n",
    "        print(\"quotient:\",self.a/self.b)\n",
    "\n",
    "class B(A):\n",
    "    def get2(self,c):\n",
    "        self.c=c\n",
    "    def d2(self):\n",
    "        print(\"quotient:\",self.a/self.b/self.c)\n",
    "        \n",
    "b=B()\n",
    "b.get(3,4)\n",
    "b.get2(5)\n",
    "b.d()\n",
    "b.d2()\n",
    "    "
   ]
  },
  {
   "cell_type": "code",
   "execution_count": 4,
   "metadata": {},
   "outputs": [
    {
     "name": "stdout",
     "output_type": "stream",
     "text": [
      "factorial: 120\n"
     ]
    }
   ],
   "source": [
    "#home work 3 factorial\n",
    "class A:\n",
    "    def get(self,a):                \n",
    "        self.a=a\n",
    "    def fac(self):\n",
    "        f=1\n",
    "        while self.a!=1:\n",
    "            f=self.a*f\n",
    "            self.a=(self.a-1)\n",
    "        print(\"factorial:\",f)\n",
    "\n",
    "class B(A):\n",
    "    def fac2(self):\n",
    "        print('bye')\n",
    "\n",
    "b=B()\n",
    "b.get(5)\n",
    "b.fac()\n",
    "    "
   ]
  },
  {
   "cell_type": "code",
   "execution_count": 8,
   "metadata": {},
   "outputs": [
    {
     "name": "stdout",
     "output_type": "stream",
     "text": [
      "child class constructor\n",
      "parent class constructor\n"
     ]
    }
   ],
   "source": [
    "##constructor calling in inheritance\n",
    "class A:\n",
    "    def __init__(self):\n",
    "        print(\"parent class constructor\")\n",
    "class B(A):\n",
    "    def __init__(self):\n",
    "        print(\"child class constructor\")\n",
    "        super().__init__()\n",
    "b=B()"
   ]
  },
  {
   "cell_type": "code",
   "execution_count": null,
   "metadata": {},
   "outputs": [],
   "source": []
  }
 ],
 "metadata": {
  "kernelspec": {
   "display_name": "Python 3",
   "language": "python",
   "name": "python3"
  },
  "language_info": {
   "codemirror_mode": {
    "name": "ipython",
    "version": 3
   },
   "file_extension": ".py",
   "mimetype": "text/x-python",
   "name": "python",
   "nbconvert_exporter": "python",
   "pygments_lexer": "ipython3",
   "version": "3.7.3"
  }
 },
 "nbformat": 4,
 "nbformat_minor": 2
}
