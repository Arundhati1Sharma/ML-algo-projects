{
 "cells": [
  {
   "cell_type": "code",
   "execution_count": 1,
   "metadata": {},
   "outputs": [
    {
     "ename": "ModuleNotFoundError",
     "evalue": "No module named 'gtts'",
     "output_type": "error",
     "traceback": [
      "\u001b[1;31m---------------------------------------------------------------------------\u001b[0m",
      "\u001b[1;31mModuleNotFoundError\u001b[0m                       Traceback (most recent call last)",
      "\u001b[1;32m<ipython-input-1-e3b4df99c126>\u001b[0m in \u001b[0;36m<module>\u001b[1;34m\u001b[0m\n\u001b[0;32m      1\u001b[0m \u001b[1;31m#gtts - google text to speech , it converts the text into audio\u001b[0m\u001b[1;33m\u001b[0m\u001b[1;33m\u001b[0m\u001b[1;33m\u001b[0m\u001b[0m\n\u001b[0;32m      2\u001b[0m \u001b[1;31m##file->setting->project name->project interpreter ->+ ->pygame->install package\u001b[0m\u001b[1;33m\u001b[0m\u001b[1;33m\u001b[0m\u001b[1;33m\u001b[0m\u001b[0m\n\u001b[1;32m----> 3\u001b[1;33m \u001b[1;32mfrom\u001b[0m \u001b[0mgtts\u001b[0m \u001b[1;32mimport\u001b[0m \u001b[0mgTTS\u001b[0m\u001b[1;33m\u001b[0m\u001b[1;33m\u001b[0m\u001b[0m\n\u001b[0m\u001b[0;32m      4\u001b[0m \u001b[1;32mfrom\u001b[0m \u001b[0mtkinter\u001b[0m \u001b[1;32mimport\u001b[0m\u001b[1;33m*\u001b[0m\u001b[1;33m\u001b[0m\u001b[1;33m\u001b[0m\u001b[0m\n\u001b[0;32m      5\u001b[0m \u001b[1;32mfrom\u001b[0m \u001b[0mpygame\u001b[0m \u001b[1;32mimport\u001b[0m \u001b[0mmixer\u001b[0m\u001b[1;33m\u001b[0m\u001b[1;33m\u001b[0m\u001b[0m\n",
      "\u001b[1;31mModuleNotFoundError\u001b[0m: No module named 'gtts'"
     ]
    }
   ],
   "source": [
    "#gtts - google text to speech , it converts the text into audio\n",
    "##file->setting->project name->project interpreter ->+ ->pygame->install package\n",
    "from gtts import gTTS\n",
    "from tkinter import*\n",
    "from pygame import mixer\n",
    "root=Tk()\n",
    "root.geometry(\"1000x400+0+0\")               ##window size\n",
    "root.title(\"my text to speech conversion\")\n",
    "root.config(bg=\"blue\")                      ##window color\n",
    "root.resizable(0,0)\n",
    "l1=Label(text=\"Enter your text\")\n",
    "l1.place(x=50,y=20)\n",
    "mytext=StringVar()                         #***#\n",
    "def fetch():\n",
    "    #language='en'\n",
    "    speech=gTTS(text=mytext.get(),lang='en',slow=False)   #*#\n",
    "    speech.save(\"voice6.mp3\")\n",
    "def play():\n",
    "    mixer.init()                            #mixer.init()- initialises pygame                                         \n",
    "    mixer.music.load(\"voice6.mp3\")          #mixer.music.load()- loads with music\n",
    "    mixer.music.play()\n",
    "e1=Entry(text=mytext,font=('arial',15,'bold'),width=20,bd=10,bg=\"pink\")      #*#\n",
    "e1.place(x=200,y=10)\n",
    "b1=Button(text='convert',width=20,command=fetch)                          ##function calling is done by command word\n",
    "b1.place(x=300,y=200)\n",
    "b2=Button(text='playfile',width=20,command=play)\n",
    "b2.place(x=500,y=200)\n",
    "root.mainloop()                                           ##this culd b played when connected to wifi"
   ]
  },
  {
   "cell_type": "code",
   "execution_count": null,
   "metadata": {},
   "outputs": [],
   "source": []
  },
  {
   "cell_type": "code",
   "execution_count": null,
   "metadata": {},
   "outputs": [],
   "source": []
  }
 ],
 "metadata": {
  "kernelspec": {
   "display_name": "Python 3",
   "language": "python",
   "name": "python3"
  },
  "language_info": {
   "codemirror_mode": {
    "name": "ipython",
    "version": 3
   },
   "file_extension": ".py",
   "mimetype": "text/x-python",
   "name": "python",
   "nbconvert_exporter": "python",
   "pygments_lexer": "ipython3",
   "version": "3.7.1"
  }
 },
 "nbformat": 4,
 "nbformat_minor": 2
}
